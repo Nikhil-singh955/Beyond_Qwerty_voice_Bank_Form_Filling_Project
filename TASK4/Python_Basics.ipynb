{
  "nbformat": 4,
  "nbformat_minor": 0,
  "metadata": {
    "colab": {
      "provenance": [],
      "authorship_tag": "ABX9TyOPjhnGRWlw/SFzxCnIVCZu",
      "include_colab_link": true
    },
    "kernelspec": {
      "name": "python3",
      "display_name": "Python 3"
    },
    "language_info": {
      "name": "python"
    }
  },
  "cells": [
    {
      "cell_type": "markdown",
      "metadata": {
        "id": "view-in-github",
        "colab_type": "text"
      },
      "source": [
        "<a href=\"https://colab.research.google.com/github/ARYANJATHAR/InfosysSpringboardProject/blob/main/Python_Basics1.ipynb\" target=\"_parent\"><img src=\"https://colab.research.google.com/assets/colab-badge.svg\" alt=\"Open In Colab\"/></a>"
      ]
    },
    {
      "cell_type": "markdown",
      "source": [
        "TUPLES\n"
      ],
      "metadata": {
        "id": "495R_qM1QExC"
      }
    },
    {
      "cell_type": "code",
      "execution_count": 1,
      "metadata": {
        "id": "SJRNq-w0P9sJ"
      },
      "outputs": [],
      "source": [
        "#Definition: A tuple is an immutable, ordered collection of elements that allows duplicate"
      ]
    },
    {
      "cell_type": "code",
      "source": [
        "my_tuple = (1, 2, 3, 3,26,62,102, \"Aryan\", 2.5)\n",
        "print(my_tuple)"
      ],
      "metadata": {
        "colab": {
          "base_uri": "https://localhost:8080/"
        },
        "id": "0NCTP9JWQJ_2",
        "outputId": "f55a2a76-f78b-48f8-faba-d7c675de2881"
      },
      "execution_count": 4,
      "outputs": [
        {
          "output_type": "stream",
          "name": "stdout",
          "text": [
            "(1, 2, 3, 3, 26, 62, 102, 'Aryan', 2.5)\n"
          ]
        }
      ]
    },
    {
      "cell_type": "code",
      "source": [
        "#OPERATIONS\n",
        "#1 Accessing Elements\n",
        "print(my_tuple[1])\n",
        "print(my_tuple[6])\n",
        "print(my_tuple[7])"
      ],
      "metadata": {
        "colab": {
          "base_uri": "https://localhost:8080/"
        },
        "id": "MGPh7CEeQXc1",
        "outputId": "f28f71a4-b095-46b7-9234-66ec315281df"
      },
      "execution_count": 12,
      "outputs": [
        {
          "output_type": "stream",
          "name": "stdout",
          "text": [
            "2\n",
            "102\n",
            "Aryan\n"
          ]
        }
      ]
    },
    {
      "cell_type": "code",
      "source": [
        "#2 Slicing\n",
        "print(my_tuple[1:4])\n",
        "print(my_tuple[5:])\n",
        "print(my_tuple[:7])"
      ],
      "metadata": {
        "colab": {
          "base_uri": "https://localhost:8080/"
        },
        "id": "1OYt6ZgYQpbN",
        "outputId": "48e74026-d54a-4411-b11b-94c013f3fbc3"
      },
      "execution_count": 13,
      "outputs": [
        {
          "output_type": "stream",
          "name": "stdout",
          "text": [
            "(2, 3, 3)\n",
            "(62, 102, 'Aryan', 2.5)\n",
            "(1, 2, 3, 3, 26, 62, 102)\n"
          ]
        }
      ]
    },
    {
      "cell_type": "code",
      "source": [
        "#3 Length\n",
        "print(len(my_tuple))"
      ],
      "metadata": {
        "colab": {
          "base_uri": "https://localhost:8080/"
        },
        "id": "NLdVS8OGQ4HS",
        "outputId": "6cdc6b04-cbf8-4738-89fc-7bceacb699c6"
      },
      "execution_count": 14,
      "outputs": [
        {
          "output_type": "stream",
          "name": "stdout",
          "text": [
            "9\n"
          ]
        }
      ]
    },
    {
      "cell_type": "code",
      "source": [
        "#4 Count\n",
        "print(my_tuple.count(3))\n",
        "print(my_tuple.count(26))"
      ],
      "metadata": {
        "colab": {
          "base_uri": "https://localhost:8080/"
        },
        "id": "1lB7lLCAQ8pE",
        "outputId": "f09a03ea-04d3-4889-b73b-3cb0673e5f41"
      },
      "execution_count": 15,
      "outputs": [
        {
          "output_type": "stream",
          "name": "stdout",
          "text": [
            "2\n",
            "1\n"
          ]
        }
      ]
    },
    {
      "cell_type": "code",
      "source": [
        "#5 Indexing\n",
        "print(my_tuple.index(\"Aryan\"))\n",
        "print(my_tuple.index(2.5))"
      ],
      "metadata": {
        "colab": {
          "base_uri": "https://localhost:8080/"
        },
        "id": "Pj7UmI6RRBUx",
        "outputId": "e62d3db9-7609-4ba6-db23-5c098c040bf2"
      },
      "execution_count": 19,
      "outputs": [
        {
          "output_type": "stream",
          "name": "stdout",
          "text": [
            "7\n",
            "8\n"
          ]
        }
      ]
    },
    {
      "cell_type": "markdown",
      "source": [
        "LISTS"
      ],
      "metadata": {
        "id": "b-Dl20jkRiBB"
      }
    },
    {
      "cell_type": "code",
      "source": [
        "# Definition: A list is a mutable, ordered collection of elements that allows duplicates."
      ],
      "metadata": {
        "id": "kqTeN3MCRhy2"
      },
      "execution_count": 20,
      "outputs": []
    },
    {
      "cell_type": "code",
      "source": [
        "my_list = [1, 23, 3, 332 , 34, 56,34, \"KARAN\", 3.14]\n",
        "print(my_list)"
      ],
      "metadata": {
        "colab": {
          "base_uri": "https://localhost:8080/"
        },
        "id": "-JQM6BWQRUK3",
        "outputId": "1a80923c-2083-43b6-aea0-98ead8a79649"
      },
      "execution_count": 21,
      "outputs": [
        {
          "output_type": "stream",
          "name": "stdout",
          "text": [
            "[1, 23, 3, 332, 34, 56, 34, 'KARAN', 3.14]\n"
          ]
        }
      ]
    },
    {
      "cell_type": "code",
      "source": [
        "#OPERATION\n",
        "# 1.Adding Elements:\n",
        "my_list.append(6)\n",
        "print(my_list)"
      ],
      "metadata": {
        "colab": {
          "base_uri": "https://localhost:8080/"
        },
        "id": "4YBuuzGCSBRv",
        "outputId": "1d4fcbf6-8ff8-4a0c-fcc5-9a0413d1149d"
      },
      "execution_count": 24,
      "outputs": [
        {
          "output_type": "stream",
          "name": "stdout",
          "text": [
            "[1, 23, 3, 332, 34, 56, 34, 'KARAN', 3.14, 6, 6, 6]\n"
          ]
        }
      ]
    },
    {
      "cell_type": "code",
      "source": [
        "#2.Removing Elements\n",
        "my_list.remove(3)\n",
        "print(my_list)"
      ],
      "metadata": {
        "colab": {
          "base_uri": "https://localhost:8080/"
        },
        "id": "23jSgCpuSF3h",
        "outputId": "7e6285e8-b3ea-436e-8b8d-e39b60176eb3"
      },
      "execution_count": 25,
      "outputs": [
        {
          "output_type": "stream",
          "name": "stdout",
          "text": [
            "[1, 23, 332, 34, 56, 34, 'KARAN', 3.14, 6, 6, 6]\n"
          ]
        }
      ]
    },
    {
      "cell_type": "code",
      "source": [
        "#3.Accessing Elements\n",
        "print(my_list[2])\n",
        "print(my_list[5])"
      ],
      "metadata": {
        "colab": {
          "base_uri": "https://localhost:8080/"
        },
        "id": "-8PFgiEWSNL9",
        "outputId": "09efea89-a26b-4e06-a57c-da75962cd98f"
      },
      "execution_count": 27,
      "outputs": [
        {
          "output_type": "stream",
          "name": "stdout",
          "text": [
            "332\n",
            "34\n"
          ]
        }
      ]
    },
    {
      "cell_type": "code",
      "source": [
        "#4.Slicing\n",
        "print(my_list[1:4])\n",
        "print(my_list[2:])\n",
        "print(my_list[:9])"
      ],
      "metadata": {
        "colab": {
          "base_uri": "https://localhost:8080/"
        },
        "id": "W7LWfXkDSWCr",
        "outputId": "b79e0611-fafd-41f9-9fb9-da47f903c122"
      },
      "execution_count": 28,
      "outputs": [
        {
          "output_type": "stream",
          "name": "stdout",
          "text": [
            "[23, 332, 34]\n",
            "[332, 34, 56, 34, 'KARAN', 3.14, 6, 6, 6]\n",
            "[1, 23, 332, 34, 56, 34, 'KARAN', 3.14, 6]\n"
          ]
        }
      ]
    },
    {
      "cell_type": "code",
      "source": [
        "#5.Length\n",
        "print(len(my_list))"
      ],
      "metadata": {
        "colab": {
          "base_uri": "https://localhost:8080/"
        },
        "id": "HzQlCY3cSfCZ",
        "outputId": "139f3cf9-4682-426e-8714-47bd2ca4324a"
      },
      "execution_count": 29,
      "outputs": [
        {
          "output_type": "stream",
          "name": "stdout",
          "text": [
            "11\n"
          ]
        }
      ]
    },
    {
      "cell_type": "markdown",
      "source": [
        "SETS"
      ],
      "metadata": {
        "id": "OCOxI5LhSj5V"
      }
    },
    {
      "cell_type": "code",
      "source": [
        "#Definition: A set is a mutable, unordered collection of unique element"
      ],
      "metadata": {
        "id": "6fRIJgGoSe6T"
      },
      "execution_count": 30,
      "outputs": []
    },
    {
      "cell_type": "code",
      "source": [
        "my_set = {1, 2, 3, 3, 4 ,24, 211,103, \"Apple\", 16.3}\n",
        "print(my_set)"
      ],
      "metadata": {
        "colab": {
          "base_uri": "https://localhost:8080/"
        },
        "id": "2bIj2qS3SxT7",
        "outputId": "4527976d-bac5-47c0-a17a-2c94a0d2ed61"
      },
      "execution_count": 35,
      "outputs": [
        {
          "output_type": "stream",
          "name": "stdout",
          "text": [
            "{1, 2, 3, 4, 103, 'Apple', 16.3, 211, 24}\n"
          ]
        }
      ]
    },
    {
      "cell_type": "code",
      "source": [
        "#OPERATIONS\n",
        "#1.Adding Elements:\n",
        "my_set.add(5)\n",
        "my_set.add(6)\n",
        "print(my_set)"
      ],
      "metadata": {
        "colab": {
          "base_uri": "https://localhost:8080/"
        },
        "id": "qlYic9tySpPS",
        "outputId": "71deac2d-db32-4032-d2c8-c4765c0dbd8e"
      },
      "execution_count": 47,
      "outputs": [
        {
          "output_type": "stream",
          "name": "stdout",
          "text": [
            "{1, 3, 4, 5, 6, 103, 'Apple', 16.3, 211, 24}\n"
          ]
        }
      ]
    },
    {
      "cell_type": "markdown",
      "source": [],
      "metadata": {
        "id": "ffhd1xDrSAsn"
      }
    },
    {
      "cell_type": "code",
      "source": [
        "#2.Removing Elements\n",
        "my_set.remove(6)\n",
        "print(my_set)"
      ],
      "metadata": {
        "colab": {
          "base_uri": "https://localhost:8080/"
        },
        "id": "Q_XWZ3rPTmIi",
        "outputId": "19dac748-3a3f-4981-8f75-884ac9e96d81"
      },
      "execution_count": 48,
      "outputs": [
        {
          "output_type": "stream",
          "name": "stdout",
          "text": [
            "{1, 3, 4, 5, 103, 'Apple', 16.3, 211, 24}\n"
          ]
        }
      ]
    },
    {
      "cell_type": "code",
      "source": [
        "#3.Union\n",
        "other_set = {9, 10, 11,3}\n",
        "print(my_set.union(other_set))"
      ],
      "metadata": {
        "colab": {
          "base_uri": "https://localhost:8080/"
        },
        "id": "B989A4uvTpDN",
        "outputId": "328a1eab-42c8-4827-8ac1-7f26a2b5318a"
      },
      "execution_count": 52,
      "outputs": [
        {
          "output_type": "stream",
          "name": "stdout",
          "text": [
            "{1, 3, 4, 5, 103, 9, 'Apple', 11, 10, 16.3, 211, 24}\n"
          ]
        }
      ]
    },
    {
      "cell_type": "code",
      "source": [
        "#4.Intersection\n",
        "print(my_set.intersection(other_set))\n"
      ],
      "metadata": {
        "colab": {
          "base_uri": "https://localhost:8080/"
        },
        "id": "2Gp-_YVtT9h7",
        "outputId": "5df1887e-3045-4275-ec66-08f2455cfa6c"
      },
      "execution_count": 53,
      "outputs": [
        {
          "output_type": "stream",
          "name": "stdout",
          "text": [
            "{3}\n"
          ]
        }
      ]
    },
    {
      "cell_type": "code",
      "source": [
        "#5.Difference\n",
        "print(my_set.difference(other_set))\n"
      ],
      "metadata": {
        "colab": {
          "base_uri": "https://localhost:8080/"
        },
        "id": "FVlMthyWUIME",
        "outputId": "9bd83929-4815-49e3-c4ab-fc7e9f87fcae"
      },
      "execution_count": 54,
      "outputs": [
        {
          "output_type": "stream",
          "name": "stdout",
          "text": [
            "{1, 4, 5, 103, 'Apple', 16.3, 211, 24}\n"
          ]
        }
      ]
    },
    {
      "cell_type": "markdown",
      "source": [
        "DICTIONARIES"
      ],
      "metadata": {
        "id": "dmdz3xCVURws"
      }
    },
    {
      "cell_type": "code",
      "source": [
        "#Definition: A dictionary is a mutable, unordered collection of key-value pairs, where keys must be unique and immutable"
      ],
      "metadata": {
        "id": "-KpFtwmMUUOZ"
      },
      "execution_count": 55,
      "outputs": []
    },
    {
      "cell_type": "code",
      "source": [
        "my_dict = {\"name\": \"Aryan\", \"age\": 20, \"city\": \"Pune\"}\n",
        "print(my_dict)"
      ],
      "metadata": {
        "colab": {
          "base_uri": "https://localhost:8080/"
        },
        "id": "6hbn6T8xU7UO",
        "outputId": "97a7b6f3-61a4-426e-a902-5e622b1f5924"
      },
      "execution_count": 56,
      "outputs": [
        {
          "output_type": "stream",
          "name": "stdout",
          "text": [
            "{'name': 'Aryan', 'age': 20, 'city': 'Pune'}\n"
          ]
        }
      ]
    },
    {
      "cell_type": "code",
      "source": [
        "#OPERATIONS\n",
        "#1.Accessing Values\n",
        "print(my_dict[\"name\"])\n",
        "print(my_dict[\"age\"])"
      ],
      "metadata": {
        "colab": {
          "base_uri": "https://localhost:8080/"
        },
        "id": "KODuN-GhVCTj",
        "outputId": "39ec12d1-f337-4423-b24d-9dd62acba12a"
      },
      "execution_count": 58,
      "outputs": [
        {
          "output_type": "stream",
          "name": "stdout",
          "text": [
            "Aryan\n",
            "20\n"
          ]
        }
      ]
    },
    {
      "cell_type": "code",
      "source": [
        "#2.Adding Key-Value Pairs\n",
        "my_dict[\"country\"] = \"India\"\n",
        "print(my_dict)"
      ],
      "metadata": {
        "colab": {
          "base_uri": "https://localhost:8080/"
        },
        "id": "G6sm9Fi5VIQ-",
        "outputId": "319b948d-d7c4-41c6-f20f-9bcbd6f8dffa"
      },
      "execution_count": 59,
      "outputs": [
        {
          "output_type": "stream",
          "name": "stdout",
          "text": [
            "{'name': 'Aryan', 'age': 20, 'city': 'Pune', 'country': 'India'}\n"
          ]
        }
      ]
    },
    {
      "cell_type": "code",
      "source": [
        "#3.Removing Key-Value Pairs\n",
        "my_dict.pop(\"age\")\n",
        "print(my_dict)"
      ],
      "metadata": {
        "colab": {
          "base_uri": "https://localhost:8080/"
        },
        "id": "mQfTFT2pVP9p",
        "outputId": "01bcbcaa-b342-4b38-fa55-79e47e077c2f"
      },
      "execution_count": 60,
      "outputs": [
        {
          "output_type": "stream",
          "name": "stdout",
          "text": [
            "{'name': 'Aryan', 'city': 'Pune', 'country': 'India'}\n"
          ]
        }
      ]
    },
    {
      "cell_type": "code",
      "source": [
        "#4.Getting Keys\n",
        "print(my_dict.keys())"
      ],
      "metadata": {
        "colab": {
          "base_uri": "https://localhost:8080/"
        },
        "id": "gU9MQ292Va7c",
        "outputId": "818ea3c5-e2fa-4ca7-cacd-860781b96340"
      },
      "execution_count": 61,
      "outputs": [
        {
          "output_type": "stream",
          "name": "stdout",
          "text": [
            "dict_keys(['name', 'city', 'country'])\n"
          ]
        }
      ]
    },
    {
      "cell_type": "code",
      "source": [
        "#5.Getting Values:\n",
        "print(my_dict.values())"
      ],
      "metadata": {
        "colab": {
          "base_uri": "https://localhost:8080/"
        },
        "id": "7DwrBYTkVe3i",
        "outputId": "395c85bd-101d-4581-a66b-8f1bbb4e9150"
      },
      "execution_count": 62,
      "outputs": [
        {
          "output_type": "stream",
          "name": "stdout",
          "text": [
            "dict_values(['Aryan', 'Pune', 'India'])\n"
          ]
        }
      ]
    },
    {
      "cell_type": "code",
      "source": [
        "#6.Length\n",
        "print(len(my_dict))"
      ],
      "metadata": {
        "colab": {
          "base_uri": "https://localhost:8080/"
        },
        "id": "93TVjObeVj-x",
        "outputId": "3a823ad1-f1be-464b-f36d-027dcd01f1b2"
      },
      "execution_count": 63,
      "outputs": [
        {
          "output_type": "stream",
          "name": "stdout",
          "text": [
            "3\n"
          ]
        }
      ]
    },
    {
      "cell_type": "code",
      "source": [
        "\n",
        "print(\"Tuple: Immutable, Ordered, Allows Duplicates\")\n",
        "print(\"List: Mutable, Ordered, Allows Duplicates\")\n",
        "print(\"Set: Mutable, Unordered, Unique Elements Only\")\n",
        "print(\"Dictionary: Mutable, Unordered, Key-Value Pairs\")\n"
      ],
      "metadata": {
        "colab": {
          "base_uri": "https://localhost:8080/"
        },
        "id": "GdNeTTBHVpwd",
        "outputId": "34188442-3dce-45ea-fc7c-988e72160c0a"
      },
      "execution_count": 65,
      "outputs": [
        {
          "output_type": "stream",
          "name": "stdout",
          "text": [
            "Tuple: Immutable, Ordered, Allows Duplicates\n",
            "List: Mutable, Ordered, Allows Duplicates\n",
            "Set: Mutable, Unordered, Unique Elements Only\n",
            "Dictionary: Mutable, Unordered, Key-Value Pairs\n"
          ]
        }
      ]
    },
    {
      "cell_type": "markdown",
      "source": [
        "Difference between Tuples,Lists,Set,Dictionary"
      ],
      "metadata": {
        "id": "BoN0yvQLZT8_"
      }
    },
    {
      "cell_type": "code",
      "source": [
        "# Difference between Tuple, List, Set, and Dictionary in Python\n",
        "\n",
        "# Tuple:\n",
        "# Definition: Immutable, ordered collection of items.\n",
        "# Syntax: (1, 2, 3)\n",
        "# Mutability: Immutable; contents cannot be modified.\n",
        "# Duplicates: Allowed.\n",
        "# Order: Ordered; maintains the sequence of elements.\n",
        "# Indexing: Supported.\n",
        "# Use Case: Ideal for fixed data that should not change (e.g., coordinates).\n",
        "# Example:\n",
        "my_tuple = (1, 2, 3)\n",
        "print(my_tuple[1])  # Output: 2\n",
        "\n",
        "# List:\n",
        "# Definition: Mutable, ordered collection of items.\n",
        "# Syntax: [1, 2, 3]\n",
        "# Mutability: Mutable; allows additions, removals, and changes.\n",
        "# Duplicates: Allowed.\n",
        "# Order: Ordered; maintains the sequence of elements.\n",
        "# Indexing: Supported.\n",
        "# Use Case: Best for sequences that require frequent modifications.\n",
        "# Example:\n",
        "my_list = [1, 2, 3]\n",
        "my_list.append(4)\n",
        "print(my_list)  # Output: [1, 2, 3, 4]\n",
        "\n",
        "# Set:\n",
        "# Definition: Mutable, unordered collection of unique items.\n",
        "# Syntax: {1, 2, 3}\n",
        "# Mutability: Mutable; allows adding or removing elements.\n",
        "# Duplicates: Not allowed; only unique elements are stored.\n",
        "# Order: Unordered; no sequence maintained.\n",
        "# Indexing: Not supported.\n",
        "# Use Case: Suitable for storing unique elements and performing mathematical operations.\n",
        "# Example:\n",
        "my_set = {1, 2, 3, 3}\n",
        "print(my_set)  # Output: {1, 2, 3} (duplicates removed)\n",
        "\n",
        "# Dictionary:\n",
        "# Definition: Mutable, unordered collection of key-value pairs.\n",
        "# Syntax: {\"key\": \"value\", \"key2\": \"value2\"}\n",
        "# Mutability: Mutable; allows modifications of keys or values.\n",
        "# Duplicates: Keys must be unique, but values can be duplicated.\n",
        "# Order: Ordered (from Python 3.7+); maintains insertion order.\n",
        "# Indexing: Accessed through keys, not numerical indices.\n",
        "# Use Case: Useful for mapping data, storing attributes, or configurations.\n",
        "# Example:\n",
        "my_dict = {\"name\": \"Alice\", \"age\": 25}\n",
        "my_dict[\"city\"] = \"New York\"\n",
        "print(my_dict)  # Output: {'name': 'Alice', 'age': 25, 'city': 'New York'}\n"
      ],
      "metadata": {
        "colab": {
          "base_uri": "https://localhost:8080/"
        },
        "id": "X-dTKIPQV7Qc",
        "outputId": "53963316-220e-4fb3-ed04-050be059bd66"
      },
      "execution_count": 66,
      "outputs": [
        {
          "output_type": "stream",
          "name": "stdout",
          "text": [
            "2\n",
            "[1, 2, 3, 4]\n",
            "{1, 2, 3}\n",
            "{'name': 'Alice', 'age': 25, 'city': 'New York'}\n"
          ]
        }
      ]
    },
    {
      "cell_type": "code",
      "source": [],
      "metadata": {
        "id": "IAccbyoDa7GJ"
      },
      "execution_count": null,
      "outputs": []
    }
  ]
}
