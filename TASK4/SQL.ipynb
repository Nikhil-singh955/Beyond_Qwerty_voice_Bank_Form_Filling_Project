{
  "nbformat": 4,
  "nbformat_minor": 0,
  "metadata": {
    "colab": {
      "provenance": [],
      "authorship_tag": "ABX9TyOfN1+Phf9154tzJE0JhfYo",
      "include_colab_link": true
    },
    "kernelspec": {
      "name": "python3",
      "display_name": "Python 3"
    },
    "language_info": {
      "name": "python"
    }
  },
  "cells": [
    {
      "cell_type": "markdown",
      "metadata": {
        "id": "view-in-github",
        "colab_type": "text"
      },
      "source": [
        "<a href=\"https://colab.research.google.com/github/ARYANJATHAR/InfosysSpringboardProject/blob/main/TASK4/SQL.ipynb\" target=\"_parent\"><img src=\"https://colab.research.google.com/assets/colab-badge.svg\" alt=\"Open In Colab\"/></a>"
      ]
    },
    {
      "cell_type": "markdown",
      "source": [
        "## SQL  - STRUCTURED QUERY LANGUAGE"
      ],
      "metadata": {
        "id": "RCq7v66dfWl9"
      }
    },
    {
      "cell_type": "markdown",
      "source": [
        "1.What is SQL, and why is it important in data analytics?\n",
        "\n",
        "Ans1.\n",
        "SQL (Structured Query Language) is a programming language used to manage, manipulate, and query data in relational databases efficiently.\n",
        "for managing and querying databases, essential in data analytics for extracting, transforming, and analyzing data efficiently."
      ],
      "metadata": {
        "id": "AWh7Q2YdGXSc"
      }
    },
    {
      "cell_type": "code",
      "source": [
        "import sqlite3\n",
        "\n",
        "# Create a database in memory\n",
        "conn = sqlite3.connect(':memory:')\n",
        "cursor = conn.cursor()\n",
        "\n",
        "# Create two sample tables\n",
        "cursor.execute('''\n",
        "CREATE TABLE employees (\n",
        "    id INTEGER PRIMARY KEY,\n",
        "    name TEXT,\n",
        "    department_id INTEGER\n",
        ")\n",
        "''')\n",
        "\n",
        "cursor.execute('''\n",
        "CREATE TABLE departments (\n",
        "    id INTEGER PRIMARY KEY,\n",
        "    department_name TEXT\n",
        ")\n",
        "''')"
      ],
      "metadata": {
        "colab": {
          "base_uri": "https://localhost:8080/"
        },
        "id": "rA-i21BqHc3V",
        "outputId": "8b97fc88-1230-4bb9-f391-722f3caabf5a"
      },
      "execution_count": 2,
      "outputs": [
        {
          "output_type": "execute_result",
          "data": {
            "text/plain": [
              "<sqlite3.Cursor at 0x7a484d40b8c0>"
            ]
          },
          "metadata": {},
          "execution_count": 2
        }
      ]
    },
    {
      "cell_type": "code",
      "source": [
        "# Insert data into the tables\n",
        "cursor.executemany('INSERT INTO employees (id, name, department_id) VALUES (?, ?, ?)', [\n",
        "    (1, 'Alice', 101),\n",
        "    (2, 'Bob', 102),\n",
        "    (3, 'Charlie', 103),\n",
        "    (4, 'David', None)\n",
        "])\n",
        "\n",
        "cursor.executemany('INSERT INTO departments (id, department_name) VALUES (?, ?)', [\n",
        "    (101, 'HR'),\n",
        "    (102, 'IT'),\n",
        "    (104, 'Finance')\n",
        "])\n",
        "\n",
        "# Commit changes\n",
        "conn.commit()\n"
      ],
      "metadata": {
        "id": "Go-JpwS3HdvH"
      },
      "execution_count": 3,
      "outputs": []
    },
    {
      "cell_type": "code",
      "source": [
        "cursor.execute('SELECT * FROM employees')\n",
        "rows = cursor.fetchall()\n",
        "for row in rows:\n",
        "    print(row)\n"
      ],
      "metadata": {
        "colab": {
          "base_uri": "https://localhost:8080/"
        },
        "id": "-kbxQ9E4HjId",
        "outputId": "2b6256fb-023a-413c-bb7f-c94271400851"
      },
      "execution_count": 7,
      "outputs": [
        {
          "output_type": "stream",
          "name": "stdout",
          "text": [
            "(1, 'Alice', 101)\n",
            "(2, 'Bob', 102)\n",
            "(3, 'Charlie', 103)\n",
            "(4, 'David', None)\n"
          ]
        }
      ]
    },
    {
      "cell_type": "markdown",
      "source": [
        "2.Explain the difference between INNER JOIN, LEFT JOIN, RIGHT JOIN, and FULL OUTER JOIN.\n",
        "\n",
        "ANS2. Joins in SQL combine rows from two or more tables based on a related column.\n",
        "\n",
        "INNER JOIN: Matches rows with common keys in both tables.\n",
        "\n",
        "LEFT JOIN: Returns all rows from the left table and matching rows from the right.\n",
        "\n",
        "RIGHT JOIN: Returns all rows from the right table and matching rows from the left.\n",
        "\n",
        "FULL OUTER JOIN: Returns all rows from both tables with NULLs for unmatched rows."
      ],
      "metadata": {
        "id": "yy0SRyA5HtnS"
      }
    },
    {
      "cell_type": "code",
      "source": [
        "# 1. INNER JOIN\n",
        "print(\"INNER JOIN:\")\n",
        "cursor.execute('''\n",
        "SELECT employees.name, departments.department_name\n",
        "FROM employees\n",
        "INNER JOIN departments ON employees.department_id = departments.id\n",
        "''')\n",
        "for row in cursor.fetchall():\n",
        "    print(row)\n"
      ],
      "metadata": {
        "id": "1_88bB_bjuvV",
        "colab": {
          "base_uri": "https://localhost:8080/"
        },
        "outputId": "1e5a3158-481b-4bfd-88c6-c399f3d733e3"
      },
      "execution_count": null,
      "outputs": [
        {
          "output_type": "stream",
          "name": "stdout",
          "text": [
            "INNER JOIN:\n",
            "('Alice', 'HR')\n",
            "('Bob', 'IT')\n"
          ]
        }
      ]
    },
    {
      "cell_type": "code",
      "source": [
        "# 2. LEFT JOIN\n",
        "print(\"\\nLEFT JOIN:\")\n",
        "cursor.execute('''\n",
        "SELECT employees.name, departments.department_name\n",
        "FROM employees\n",
        "LEFT JOIN departments ON employees.department_id = departments.id\n",
        "''')\n",
        "for row in cursor.fetchall():\n",
        "    print(row)"
      ],
      "metadata": {
        "colab": {
          "base_uri": "https://localhost:8080/"
        },
        "id": "RZCprjr3JOaW",
        "outputId": "72e517dc-fbfd-41af-a772-247b4210a3ee"
      },
      "execution_count": null,
      "outputs": [
        {
          "output_type": "stream",
          "name": "stdout",
          "text": [
            "\n",
            "LEFT JOIN:\n",
            "('Alice', 'HR')\n",
            "('Bob', 'IT')\n",
            "('Charlie', None)\n",
            "('David', None)\n"
          ]
        }
      ]
    },
    {
      "cell_type": "code",
      "source": [
        "# 3. RIGHT JOIN (Not supported directly in SQLite, emulate using LEFT JOIN)\n",
        "print(\"\\nRIGHT JOIN (Emulated):\")\n",
        "cursor.execute('''\n",
        "SELECT employees.name, departments.department_name\n",
        "FROM departments\n",
        "LEFT JOIN employees ON employees.department_id = departments.id\n",
        "''')\n",
        "for row in cursor.fetchall():\n",
        "    print(row)"
      ],
      "metadata": {
        "colab": {
          "base_uri": "https://localhost:8080/"
        },
        "id": "Z47XItHtJZWI",
        "outputId": "1425f000-ed1d-4cdd-9a7d-c27ffc481c88"
      },
      "execution_count": null,
      "outputs": [
        {
          "output_type": "stream",
          "name": "stdout",
          "text": [
            "\n",
            "RIGHT JOIN (Emulated):\n",
            "('Alice', 'HR')\n",
            "('Bob', 'IT')\n",
            "(None, 'Finance')\n"
          ]
        }
      ]
    },
    {
      "cell_type": "code",
      "source": [
        "# 4. FULL OUTER JOIN (Emulated using UNION)\n",
        "print(\"\\nFULL OUTER JOIN (Emulated):\")\n",
        "cursor.execute('''\n",
        "SELECT employees.name, departments.department_name\n",
        "FROM employees\n",
        "LEFT JOIN departments ON employees.department_id = departments.id\n",
        "UNION\n",
        "SELECT employees.name, departments.department_name\n",
        "FROM departments\n",
        "LEFT JOIN employees ON employees.department_id = departments.id\n",
        "''')\n",
        "for row in cursor.fetchall():\n",
        "    print(row)\n"
      ],
      "metadata": {
        "colab": {
          "base_uri": "https://localhost:8080/"
        },
        "id": "HCOgM5CkJeV8",
        "outputId": "dc9a8b0c-6370-4937-92ef-65fd1b82a6a3"
      },
      "execution_count": null,
      "outputs": [
        {
          "output_type": "stream",
          "name": "stdout",
          "text": [
            "\n",
            "FULL OUTER JOIN (Emulated):\n",
            "(None, 'Finance')\n",
            "('Alice', 'HR')\n",
            "('Bob', 'IT')\n",
            "('Charlie', None)\n",
            "('David', None)\n"
          ]
        }
      ]
    },
    {
      "cell_type": "markdown",
      "source": [
        "3.What is the difference between WHERE and HAVING clauses?\n",
        "\n",
        "Ans3. WHERE Clause: The WHERE clause filters records in a query based on specified conditions before any grouping or aggregation is applied.\n",
        "\n",
        "HAVING Clause: The HAVING clause filters grouped data based on conditions applied to aggregate functions after the GROUP BY clause."
      ],
      "metadata": {
        "id": "F_DALwn5KycB"
      }
    },
    {
      "cell_type": "code",
      "source": [
        "import sqlite3\n",
        "\n",
        "# Create an in-memory SQLite database\n",
        "conn = sqlite3.connect(':memory:')\n",
        "cursor = conn.cursor()\n",
        "\n",
        "# Create a table\n",
        "cursor.execute('''\n",
        "CREATE TABLE sales (\n",
        "    id INTEGER PRIMARY KEY,\n",
        "    product TEXT,\n",
        "    category TEXT,\n",
        "    amount REAL\n",
        ")\n",
        "''')\n",
        "\n",
        "# Insert sample data\n",
        "cursor.executemany('INSERT INTO sales (id, product, category, amount) VALUES (?, ?, ?, ?)', [\n",
        "    (1, 'Laptop', 'Electronics', 1500),\n",
        "    (2, 'Phone', 'Electronics', 800),\n",
        "    (3, 'Chair', 'Furniture', 200),\n",
        "    (4, 'Desk', 'Furniture', 300),\n",
        "    (5, 'Headphones', 'Electronics', 200),\n",
        "\n",
        "])\n",
        "\n",
        "# Commit changes\n",
        "conn.commit()\n"
      ],
      "metadata": {
        "id": "UQZEP7zhKtPJ"
      },
      "execution_count": null,
      "outputs": []
    },
    {
      "cell_type": "code",
      "source": [
        "# Using WHERE Clause: Filtering rows before grouping\n",
        "print(\"Using WHERE Clause:\")\n",
        "cursor.execute('''\n",
        "SELECT product, category, amount\n",
        "FROM sales\n",
        "WHERE amount > 500\n",
        "''')\n",
        "for row in cursor.fetchall():\n",
        "    print(row)"
      ],
      "metadata": {
        "colab": {
          "base_uri": "https://localhost:8080/"
        },
        "id": "3wyGvj-BLLtz",
        "outputId": "2960ed34-83cc-4357-ab95-c4ec595e83b5"
      },
      "execution_count": null,
      "outputs": [
        {
          "output_type": "stream",
          "name": "stdout",
          "text": [
            "Using WHERE Clause:\n",
            "('Laptop', 'Electronics', 1500.0)\n",
            "('Phone', 'Electronics', 800.0)\n"
          ]
        }
      ]
    },
    {
      "cell_type": "code",
      "source": [
        "# Using HAVING Clause: Filtering aggregated results\n",
        "print(\"\\nUsing HAVING Clause:\")\n",
        "cursor.execute('''\n",
        "SELECT category, SUM(amount) as total_sales\n",
        "FROM sales\n",
        "GROUP BY category\n",
        "HAVING total_sales > 1000\n",
        "''')\n",
        "for row in cursor.fetchall():\n",
        "    print(row)"
      ],
      "metadata": {
        "colab": {
          "base_uri": "https://localhost:8080/"
        },
        "id": "B8P_Y350MVyH",
        "outputId": "23f0ff91-e5c0-4ac5-d41d-222fe3a843a0"
      },
      "execution_count": null,
      "outputs": [
        {
          "output_type": "stream",
          "name": "stdout",
          "text": [
            "\n",
            "Using HAVING Clause:\n",
            "('Electronics', 2500.0)\n"
          ]
        }
      ]
    },
    {
      "cell_type": "markdown",
      "source": [
        "Q.4 How do you use GROUP BY and HAVING in a query?\n",
        "\n",
        "GROUP BY: The GROUP BY clause groups rows in a query based on one or more columns, allowing aggregate functions (like SUM, COUNT, AVG, etc.) to be applied to each group."
      ],
      "metadata": {
        "id": "RhxJvZN5NhRO"
      }
    },
    {
      "cell_type": "markdown",
      "source": [],
      "metadata": {
        "id": "yb9O4c4UNIyD"
      }
    },
    {
      "cell_type": "code",
      "source": [
        "#How do you use GROUP BY and HAVING in a query?\n",
        "# Using GROUP BY and HAVING\n",
        "print(\"Using GROUP BY and HAVING:\")\n",
        "cursor.execute('''\n",
        "SELECT category, SUM(amount) AS total_sales\n",
        "FROM sales\n",
        "GROUP BY category\n",
        "HAVING total_sales > 1000\n",
        "''')\n",
        "for row in cursor.fetchall():\n",
        "    print(row)\n"
      ],
      "metadata": {
        "colab": {
          "base_uri": "https://localhost:8080/"
        },
        "id": "m67VBK-1NYF7",
        "outputId": "33b0cf9a-ce10-4ef8-ef02-467f614363ab"
      },
      "execution_count": null,
      "outputs": [
        {
          "output_type": "stream",
          "name": "stdout",
          "text": [
            "Using GROUP BY and HAVING:\n",
            "('Electronics', 2500.0)\n"
          ]
        }
      ]
    },
    {
      "cell_type": "markdown",
      "source": [
        "5.Write a query to find duplicate records in a table.\n",
        "\n",
        "ANS: Duplicate records refer to rows in a database table that have the same values in one or more columns."
      ],
      "metadata": {
        "id": "EjrPuu9gOggp"
      }
    },
    {
      "cell_type": "code",
      "source": [
        "print(\"Duplicate records based on product and category:\")\n",
        "cursor.execute('''\n",
        "SELECT product, category, COUNT(*) as count\n",
        "FROM sales\n",
        "GROUP BY product, category\n",
        "HAVING COUNT(*) > 1\n",
        "''')\n",
        "for row in cursor.fetchall():\n",
        "    print(row)\n"
      ],
      "metadata": {
        "id": "5v5Xvxj1jumk",
        "colab": {
          "base_uri": "https://localhost:8080/"
        },
        "outputId": "d8a0cc0f-68d3-4c69-ff4e-8d0323ec85a8"
      },
      "execution_count": null,
      "outputs": [
        {
          "output_type": "stream",
          "name": "stdout",
          "text": [
            "Duplicate records based on product and category:\n",
            "('Phone', 'Electronics', 2)\n"
          ]
        }
      ]
    },
    {
      "cell_type": "markdown",
      "source": [
        "6.How do you retrieve unique values from a table using SQL?"
      ],
      "metadata": {
        "id": "75_g1K6dPOtQ"
      }
    },
    {
      "cell_type": "code",
      "source": [
        "#6.How do you retrieve unique values from a table using SQL?\n",
        "print(\"Unique products and categories:\")\n",
        "cursor.execute('''\n",
        "SELECT DISTINCT product, category\n",
        "FROM sales\n",
        "''')\n",
        "for row in cursor.fetchall():\n",
        "    print(row)"
      ],
      "metadata": {
        "id": "0PuUXcYSjuj-",
        "colab": {
          "base_uri": "https://localhost:8080/"
        },
        "outputId": "a360ce19-d2f8-4984-8842-d6d15b649365"
      },
      "execution_count": null,
      "outputs": [
        {
          "output_type": "stream",
          "name": "stdout",
          "text": [
            "Unique products and categories:\n",
            "('Laptop', 'Electronics')\n",
            "('Phone', 'Electronics')\n",
            "('Chair', 'Furniture')\n",
            "('Desk', 'Furniture')\n",
            "('Headphones', 'Electronics')\n"
          ]
        }
      ]
    },
    {
      "cell_type": "markdown",
      "source": [
        "7.Explain the use of aggregate functions like COUNT(), SUM(), AVG(), MIN(), and MAX().\n",
        "\n",
        "Ans7. - COUNT(): Counts rows.\n",
        "\n",
        "SUM(): Calculates total.\n",
        "\n",
        "AVG(): Calculates average.\n",
        "\n",
        "MIN()/MAX(): Finds minimum/maximum values."
      ],
      "metadata": {
        "id": "flWDuMqbPaNS"
      }
    },
    {
      "cell_type": "code",
      "source": [
        "# COUNT example\n",
        "cursor.execute('SELECT COUNT(*) FROM sales')\n",
        "print(\"Total number of sales records:\", cursor.fetchone()[0])\n",
        "\n",
        "# SUM example\n",
        "cursor.execute('SELECT category, SUM(amount) FROM sales GROUP BY category')\n",
        "print(\"Total sales per category:\")\n",
        "for row in cursor.fetchall():\n",
        "    print(row)\n",
        "\n",
        "# AVG example\n",
        "cursor.execute('SELECT AVG(amount) FROM sales')\n",
        "print(\"Average sales amount:\", cursor.fetchone()[0])\n",
        "\n",
        "# MIN example\n",
        "cursor.execute('SELECT MIN(amount) FROM sales')\n",
        "print(\"Lowest sales amount:\", cursor.fetchone()[0])\n",
        "\n",
        "# MAX example\n",
        "cursor.execute('SELECT MAX(amount) FROM sales')\n",
        "print(\"Highest sales amount:\", cursor.fetchone()[0])"
      ],
      "metadata": {
        "colab": {
          "base_uri": "https://localhost:8080/"
        },
        "id": "P-S0bNdXPaA0",
        "outputId": "ff833878-1516-4266-dd5e-4432cbddbae2"
      },
      "execution_count": null,
      "outputs": [
        {
          "output_type": "stream",
          "name": "stdout",
          "text": [
            "Total number of sales records: 6\n",
            "Total sales per category:\n",
            "('Electronics', 3300.0)\n",
            "('Furniture', 500.0)\n",
            "Average sales amount: 633.3333333333334\n",
            "Lowest sales amount: 200.0\n",
            "Highest sales amount: 1500.0\n"
          ]
        }
      ]
    },
    {
      "cell_type": "code",
      "source": [],
      "metadata": {
        "id": "0tX4cHTHjufG"
      },
      "execution_count": null,
      "outputs": []
    },
    {
      "cell_type": "markdown",
      "source": [
        "8.What is the purpose of a DISTINCT keyword in SQL?\n",
        "\n",
        "Ans8. The DISTINCT keyword in SQL is used to remove duplicate records from the result set. It ensures that the query returns only unique values for the specified columns, eliminating any redundant data."
      ],
      "metadata": {
        "id": "1T6KMNCxP4Gz"
      }
    },
    {
      "cell_type": "code",
      "source": [],
      "metadata": {
        "id": "GOuPkhQJjuVa"
      },
      "execution_count": null,
      "outputs": []
    },
    {
      "cell_type": "markdown",
      "source": [
        "9 .Write a query to find the second-highest salary from an employee table."
      ],
      "metadata": {
        "id": "SvqW8qgIQqSJ"
      }
    },
    {
      "cell_type": "code",
      "source": [
        "\n",
        "# cursor.execute('''\n",
        "# SELECT MAX(salary)\n",
        "# FROM employees\n",
        "# WHERE salary < (SELECT MAX(salary) FROM employees);\n",
        "# ''')\n",
        "\n",
        "# second_highest_salary = cursor.fetchone()[0]\n",
        "# print(\"Second highest salary:\", second_highest_salary)"
      ],
      "metadata": {
        "id": "2XHG-U_MjuMm"
      },
      "execution_count": null,
      "outputs": []
    },
    {
      "cell_type": "code",
      "source": [],
      "metadata": {
        "id": "7vpqLcsrYXto"
      },
      "execution_count": null,
      "outputs": []
    },
    {
      "cell_type": "markdown",
      "source": [
        "10.What are subqueries and how do you use them?\n",
        "\n",
        "Ans10. A subquery is a query nested inside another query.\n",
        "\n",
        " It is used to retrieve data that will be used in the main query.\n",
        "\n",
        "\n",
        " Subqueries can return a single value, multiple values, or a set of results, depending on how they are structured.\n",
        "\n",
        " Subqueries can be used in various parts of a SQL query, such as:\n",
        "\n",
        "SELECT clause\n",
        "  \n",
        "WHERE clause\n",
        "\n",
        "FROM clause\n",
        "\n",
        "HAVING clause"
      ],
      "metadata": {
        "id": "CxrY8OLwR5TR"
      }
    },
    {
      "cell_type": "code",
      "source": [],
      "metadata": {
        "id": "2b4Pi4ZtYVFK"
      },
      "execution_count": null,
      "outputs": []
    },
    {
      "cell_type": "markdown",
      "source": [
        "Q11.How do you combine results of two queries using UNION and UNION ALL?\n",
        "\n",
        "UNION:\n",
        "\n",
        "Combines the results of two or more SELECT queries and removes duplicate rows from the final result.\n",
        "\n",
        "Columns in all queries must have the same number, data types, and order.\n",
        "\n",
        "UNION ALL:\n",
        "\n",
        "Combines the results of two or more SELECT queries but does not remove duplicates.\n",
        "\n",
        "Faster than UNION because it skips the duplicate-checking step."
      ],
      "metadata": {
        "id": "zjCpEVf-VTko"
      }
    },
    {
      "cell_type": "code",
      "source": [
        "import sqlite3\n",
        "\n",
        "# Create an in-memory SQLite database\n",
        "conn = sqlite3.connect(':memory:')\n",
        "cursor = conn.cursor()\n",
        "\n",
        "# Create an employees table\n",
        "cursor.execute('''\n",
        "CREATE TABLE employees (\n",
        "    id INTEGER PRIMARY KEY,\n",
        "    name TEXT,\n",
        "    salary REAL,\n",
        "    department TEXT\n",
        ")\n",
        "''')\n",
        "\n",
        "# Insert sample data into employees table\n",
        "cursor.executemany('INSERT INTO employees (id, name, salary, department) VALUES (?, ?, ?, ?)', [\n",
        "    (1, 'John', 5000, 'HR'),\n",
        "    (2, 'Jane', 7000, 'Finance'),\n",
        "\n",
        "\n",
        "])\n",
        "\n",
        "# Create a contractors table\n",
        "cursor.execute('''\n",
        "CREATE TABLE contractors (\n",
        "    id INTEGER PRIMARY KEY,\n",
        "    name TEXT,\n",
        "    salary REAL,\n",
        "    department TEXT\n",
        ")\n",
        "''')\n",
        "\n",
        "# Insert sample data into contractors table\n",
        "cursor.executemany('INSERT INTO contractors (id, name, salary, department) VALUES (?, ?, ?, ?)', [\n",
        "    (6, 'Eve', 7500, 'Finance'),\n",
        "    (7, 'John',5000, 'HR'),\n",
        "    (8, 'Jerry', 6500, 'Marketing')\n",
        "])\n",
        "\n",
        "# Commit changes\n",
        "conn.commit()\n",
        "\n",
        "# Query combining employees and contractors using UNION\n",
        "union_query = '''\n",
        "SELECT name, department, salary\n",
        "FROM employees\n",
        "UNION\n",
        "SELECT name, department, salary\n",
        "FROM contractors;\n",
        "'''\n",
        "\n",
        "# Query combining employees and contractors using UNION ALL\n",
        "union_all_query = '''\n",
        "SELECT name, department, salary\n",
        "FROM employees\n",
        "UNION ALL\n",
        "SELECT name, department, salary\n",
        "FROM contractors;\n",
        "'''\n",
        "\n",
        "# Execute and fetch UNION results\n",
        "print(\"Results with UNION (duplicates removed):\")\n",
        "cursor.execute(union_query)\n",
        "for row in cursor.fetchall():\n",
        "    print(row)\n",
        "\n",
        "# Execute and fetch UNION ALL results\n",
        "print(\"\\nResults with UNION ALL (duplicates included):\")\n",
        "cursor.execute(union_all_query)\n",
        "for row in cursor.fetchall():\n",
        "    print(row)\n",
        "\n",
        "# Close connection\n",
        "conn.close()\n"
      ],
      "metadata": {
        "id": "BcNsxp1ll60S",
        "colab": {
          "base_uri": "https://localhost:8080/"
        },
        "outputId": "b0fd3ef8-2e5a-420c-ca44-b41497e57c0f"
      },
      "execution_count": null,
      "outputs": [
        {
          "output_type": "stream",
          "name": "stdout",
          "text": [
            "Results with UNION (duplicates removed):\n",
            "('Eve', 'Finance', 7500.0)\n",
            "('Jane', 'Finance', 7000.0)\n",
            "('Jerry', 'Marketing', 6500.0)\n",
            "('John', 'HR', 5000.0)\n",
            "\n",
            "Results with UNION ALL (duplicates included):\n",
            "('John', 'HR', 5000.0)\n",
            "('Jane', 'Finance', 7000.0)\n",
            "('Eve', 'Finance', 7500.0)\n",
            "('John', 'HR', 5000.0)\n",
            "('Jerry', 'Marketing', 6500.0)\n"
          ]
        }
      ]
    },
    {
      "cell_type": "code",
      "source": [],
      "metadata": {
        "id": "gzYjncp5YaX0"
      },
      "execution_count": null,
      "outputs": []
    },
    {
      "cell_type": "markdown",
      "source": [],
      "metadata": {
        "id": "G20_vUYXYZ3p"
      }
    },
    {
      "cell_type": "markdown",
      "source": [
        "12.What are indexes in SQL, and how do they improve query performance?\n",
        "\n",
        "Ans6 Indexes in SQL are data structures that improve the speed of data retrieval\n",
        "by creating a quick lookup mechanism for specific columns in a table, much like a book's index helps locate topics.\n",
        "\n",
        "Without Index (Full Table Scan)\n",
        "If no index exists, the database scans all rows in the table to find matching results, which is slow for large datasets.\n",
        "\n",
        "With Index\n",
        "With an index on relevant columns, the database quickly narrows down rows matching the criteria, improving performance significantly.\n"
      ],
      "metadata": {
        "id": "XyEtlD2rXiyK"
      }
    },
    {
      "cell_type": "code",
      "source": [],
      "metadata": {
        "id": "67hG6g5Rl6so"
      },
      "execution_count": null,
      "outputs": []
    },
    {
      "cell_type": "markdown",
      "source": [
        "13.How do you optimize a slow-running SQL query?\n",
        "\n",
        "Ans11.\n",
        " Use Indexes: Create indexes on columns involved in filtering, joining, and sorting to speed up query execution.\n",
        "\n",
        "Analyze Query Execution Plan: Use tools like EXPLAIN to identify inefficiencies and optimize the query path.\n",
        "\n",
        "**Avoid SELECT ***: Select only the necessary columns to reduce processing time and memory usage."
      ],
      "metadata": {
        "id": "FQl0iPMJYpxd"
      }
    },
    {
      "cell_type": "code",
      "source": [],
      "metadata": {
        "id": "tc-gOM_8Y83E"
      },
      "execution_count": null,
      "outputs": []
    },
    {
      "cell_type": "markdown",
      "source": [],
      "metadata": {
        "id": "AWLRULdUY8T7"
      }
    },
    {
      "cell_type": "markdown",
      "source": [
        "14.What are views in SQL, and when would you use them?\n",
        "\n",
        "Ans2.\n",
        "A view in SQL is a virtual table that represents the result of a stored query.\n",
        "\n",
        "It doesn't store data itself but fetches data from the underlying tables based on the defined query.\n",
        "\n",
        "Views simplify complex queries, provide data abstraction, and enhance security by restricting access to certain columns or rows."
      ],
      "metadata": {
        "id": "0y4U9thZZOlR"
      }
    },
    {
      "cell_type": "code",
      "source": [
        "import sqlite3\n",
        "\n",
        "# Connect to an in-memory SQLite database\n",
        "conn = sqlite3.connect(':memory:')\n",
        "cursor = conn.cursor()\n",
        "\n",
        "# Create a sample 'employees' table\n",
        "cursor.execute('''\n",
        "CREATE TABLE employees (\n",
        "    id INTEGER PRIMARY KEY,\n",
        "    name TEXT,\n",
        "    salary REAL,\n",
        "    department TEXT\n",
        ")\n",
        "''')\n",
        "\n",
        "# Insert sample data into 'employees' table\n",
        "cursor.executemany('''\n",
        "INSERT INTO employees (name, salary, department) VALUES (?, ?, ?)\n",
        "''', [\n",
        "    ('John', 6000, 'IT'),\n",
        "    ('Alice', 4000, 'HR'),\n",
        "    ('Bob', 8000, 'IT'),\n",
        "    ('Eve', 3000, 'Finance'),\n",
        "    ('Charlie', 7000, 'IT')\n",
        "])\n",
        "\n",
        "# Create a view to show employees with salary greater than 5000\n",
        "cursor.execute('''\n",
        "CREATE VIEW employee_summary AS\n",
        "SELECT name, department, salary\n",
        "FROM employees\n",
        "WHERE salary > 5000\n",
        "''')\n",
        "\n",
        "# Query the view\n",
        "cursor.execute('SELECT * FROM employee_summary')\n",
        "rows = cursor.fetchall()\n",
        "\n",
        "# Display the result\n",
        "for row in rows:\n",
        "    print(row)\n",
        "\n",
        "# Close the connection\n",
        "conn.close()\n"
      ],
      "metadata": {
        "colab": {
          "base_uri": "https://localhost:8080/"
        },
        "id": "pxUUU_7LZakt",
        "outputId": "b18a859f-53e0-4015-890b-7d53ef37c5fb"
      },
      "execution_count": null,
      "outputs": [
        {
          "output_type": "stream",
          "name": "stdout",
          "text": [
            "('John', 'IT', 6000.0)\n",
            "('Bob', 'IT', 8000.0)\n",
            "('Charlie', 'IT', 7000.0)\n"
          ]
        }
      ]
    },
    {
      "cell_type": "markdown",
      "source": [
        "Q.13What is the difference between a stored procedure and a function in SQL?\n",
        "\n",
        "Stored Procedure: A stored procedure is a set of SQL statements that perform a task, such as modifying data, and can return no value or multiple results.\n",
        "\n",
        "It is used to perform operations like INSERT, UPDATE, DELETE, or complex queries.\n",
        "\n",
        "Function: A function is designed to return a single value and is used to perform calculations or data transformations.\n",
        "\n",
        "It cannot modify the database (i.e., no INSERT, UPDATE, or DELETE operations)."
      ],
      "metadata": {
        "id": "PQ0c2UyVaivF"
      }
    },
    {
      "cell_type": "code",
      "source": [],
      "metadata": {
        "id": "GMDdntnxailR"
      },
      "execution_count": null,
      "outputs": []
    },
    {
      "cell_type": "markdown",
      "source": [
        "4.Explain the difference between TRUNCATE, DELETE, and DROP commands.\n",
        "Ans4\n",
        "\n",
        "TRUNCATE:\n",
        "\n",
        "Purpose: Removes all rows from a table but does not log individual row deletions, making it faster than DELETE. It cannot be rolled back if executed in a transaction.\n",
        "\n",
        "DELETE:\n",
        "\n",
        "Purpose: Removes specific rows from a table based on a WHERE condition. Unlike TRUNCATE, it is logged and can be rolled back if executed within a transaction.\n",
        "\n",
        "DROP:\n",
        "\n",
        "Purpose: Completely removes a table (or other database objects like views, indexes) from the database, including its structure and data."
      ],
      "metadata": {
        "id": "HigrGKYNbMPE"
      }
    },
    {
      "cell_type": "code",
      "source": [
        "import sqlite3\n",
        "\n",
        "# Connect to an in-memory SQLite database\n",
        "conn = sqlite3.connect(':memory:')\n",
        "cursor = conn.cursor()\n",
        "\n",
        "# Create the 'employees' table\n",
        "cursor.execute('''\n",
        "CREATE TABLE employees (\n",
        "    id INTEGER PRIMARY KEY,\n",
        "    name TEXT,\n",
        "    salary REAL,\n",
        "    department TEXT\n",
        ")\n",
        "''')\n",
        "\n",
        "# Insert sample data\n",
        "cursor.executemany('''\n",
        "INSERT INTO employees (name, salary, department) VALUES (?, ?, ?)\n",
        "''', [\n",
        "    ('John', 6000, 'IT'),\n",
        "    ('Alice', 4000, 'HR'),\n",
        "    ('Bob', 8000, 'IT'),\n",
        "    ('Eve', 3000, 'Finance'),\n",
        "    ('Charlie', 7000, 'IT')\n",
        "])\n",
        "\n",
        "# Example of DELETE (removes specific rows)\n",
        "cursor.execute('''\n",
        "DELETE FROM employees WHERE name = 'John'\n",
        "''')\n",
        "\n",
        "# Example of TRUNCATE (removes all rows but keeps the table)\n",
        "cursor.execute('''\n",
        "DELETE FROM employees\n",
        "''')  # SQLite doesn't have a TRUNCATE command, but DELETE without WHERE acts similarly\n",
        "print(\"After DELETE:\")\n",
        "cursor.execute('SELECT * FROM employees')\n",
        "print(cursor.fetchall())\n",
        "\n",
        "# Example of DROP (removes the table completely)\n",
        "cursor.execute('DROP TABLE employees')\n",
        "\n",
        "# Trying to select after DROP (this will throw an error since the table is dropped)\n",
        "try:\n",
        "    cursor.execute('SELECT * FROM employees')\n",
        "    print(cursor.fetchall())\n",
        "except sqlite3.OperationalError as e:\n",
        "    print(\"Error:\", e)\n",
        "\n",
        "# Close the connection\n",
        "conn.close()\n"
      ],
      "metadata": {
        "colab": {
          "base_uri": "https://localhost:8080/"
        },
        "id": "n9da4E0nbdbX",
        "outputId": "bc40a1e2-4cdb-492e-a68b-134c96209a45"
      },
      "execution_count": null,
      "outputs": [
        {
          "output_type": "stream",
          "name": "stdout",
          "text": [
            "After DELETE:\n",
            "[]\n",
            "Error: no such table: employees\n"
          ]
        }
      ]
    },
    {
      "cell_type": "markdown",
      "source": [],
      "metadata": {
        "id": "0e75LogybdGD"
      }
    },
    {
      "cell_type": "code",
      "source": [],
      "metadata": {
        "id": "xLcsp3PTcANx"
      },
      "execution_count": null,
      "outputs": []
    },
    {
      "cell_type": "markdown",
      "source": [
        "# BASIC SQL CODES\n"
      ],
      "metadata": {
        "id": "FGPhSfiwjsvU"
      }
    },
    {
      "cell_type": "code",
      "source": [
        "import sqlite3\n",
        "\n",
        "# Create a database in memory\n",
        "conn = sqlite3.connect(':memory:')\n",
        "cursor = conn.cursor()\n",
        "\n",
        "# Create a sample table\n",
        "cursor.execute('''\n",
        "CREATE TABLE employees (\n",
        "    id INTEGER PRIMARY KEY,\n",
        "    name TEXT,\n",
        "    salary REAL,\n",
        "    department TEXT\n",
        ")\n",
        "''')\n"
      ],
      "metadata": {
        "colab": {
          "base_uri": "https://localhost:8080/"
        },
        "id": "h9GvW80dbTtP",
        "outputId": "2f9dafb0-8b73-4f7f-e9d4-a31676159f6d"
      },
      "execution_count": 8,
      "outputs": [
        {
          "output_type": "execute_result",
          "data": {
            "text/plain": [
              "<sqlite3.Cursor at 0x7a484d4884c0>"
            ]
          },
          "metadata": {},
          "execution_count": 8
        }
      ]
    },
    {
      "cell_type": "code",
      "source": [
        "# Insert sample data\n",
        "cursor.executemany('''\n",
        "INSERT INTO employees (name, salary, department) VALUES (?, ?, ?)\n",
        "''', [\n",
        "    ('Alice', 50000, 'HR'),\n",
        "    ('Bob', 60000, 'Engineering'),\n",
        "    ('Charlie', 70000, 'Engineering'),\n",
        "    ('David', 55000, 'Marketing'),\n",
        "    ('Eve', 65000, 'HR')\n",
        "])\n",
        "\n",
        "# Commit the changes\n",
        "conn.commit()\n"
      ],
      "metadata": {
        "id": "ILZ-tjS9bUrK"
      },
      "execution_count": 9,
      "outputs": []
    },
    {
      "cell_type": "code",
      "source": [
        "cursor.execute('SELECT department, AVG(salary) FROM employees GROUP BY department')\n",
        "rows = cursor.fetchall()\n",
        "for row in rows:\n",
        "    print(row)\n"
      ],
      "metadata": {
        "colab": {
          "base_uri": "https://localhost:8080/"
        },
        "id": "ALT1sdkOHmVq",
        "outputId": "df020e9f-dff2-499b-87e6-e04431cb2895"
      },
      "execution_count": 10,
      "outputs": [
        {
          "output_type": "stream",
          "name": "stdout",
          "text": [
            "('Engineering', 65000.0)\n",
            "('HR', 57500.0)\n",
            "('Marketing', 55000.0)\n"
          ]
        }
      ]
    },
    {
      "cell_type": "code",
      "source": [
        "cursor.execute('INSERT INTO employees (name, salary, department) VALUES (?, ?, ?)', ('Sumit',10000, 'Intern'))\n",
        "conn.commit()\n"
      ],
      "metadata": {
        "id": "oURkl_LeHoO6"
      },
      "execution_count": 11,
      "outputs": []
    },
    {
      "cell_type": "code",
      "source": [
        "cursor.execute('SELECT * FROM employees')\n",
        "rows = cursor.fetchall()\n",
        "for row in rows:\n",
        "    print(row)\n"
      ],
      "metadata": {
        "colab": {
          "base_uri": "https://localhost:8080/"
        },
        "id": "qkNIJG2sNRSf",
        "outputId": "8455d70a-1906-4003-9c65-7fa075274049"
      },
      "execution_count": 12,
      "outputs": [
        {
          "output_type": "stream",
          "name": "stdout",
          "text": [
            "(1, 'Alice', 50000.0, 'HR')\n",
            "(2, 'Bob', 60000.0, 'Engineering')\n",
            "(3, 'Charlie', 70000.0, 'Engineering')\n",
            "(4, 'David', 55000.0, 'Marketing')\n",
            "(5, 'Eve', 65000.0, 'HR')\n",
            "(6, 'Sumit', 10000.0, 'Intern')\n"
          ]
        }
      ]
    },
    {
      "cell_type": "code",
      "source": [
        "cursor.execute('SELECT * FROM employees WHERE department = \"Engineering\"')\n",
        "rows = cursor.fetchall()\n",
        "for row in rows:\n",
        "    print(row)\n"
      ],
      "metadata": {
        "colab": {
          "base_uri": "https://localhost:8080/"
        },
        "id": "hJ3O4v2jHkcu",
        "outputId": "8fd92369-160e-48b7-92ac-f69bc2c6fc68"
      },
      "execution_count": 13,
      "outputs": [
        {
          "output_type": "stream",
          "name": "stdout",
          "text": [
            "(2, 'Bob', 60000.0, 'Engineering')\n",
            "(3, 'Charlie', 70000.0, 'Engineering')\n"
          ]
        }
      ]
    },
    {
      "cell_type": "code",
      "source": [
        "cursor.execute('UPDATE employees SET salary = ? WHERE name = ?', (20000, 'Sumit'))\n",
        "conn.commit()\n"
      ],
      "metadata": {
        "id": "NihaOaYeHpTy"
      },
      "execution_count": 14,
      "outputs": []
    },
    {
      "cell_type": "code",
      "source": [
        "cursor.execute('SELECT * FROM employees')\n",
        "rows = cursor.fetchall()\n",
        "for row in rows:\n",
        "    print(row)\n"
      ],
      "metadata": {
        "colab": {
          "base_uri": "https://localhost:8080/"
        },
        "id": "s5ysMg1HHqhn",
        "outputId": "308a9b20-bee7-484e-d1b3-a7c2cb37fc57"
      },
      "execution_count": 15,
      "outputs": [
        {
          "output_type": "stream",
          "name": "stdout",
          "text": [
            "(1, 'Alice', 50000.0, 'HR')\n",
            "(2, 'Bob', 60000.0, 'Engineering')\n",
            "(3, 'Charlie', 70000.0, 'Engineering')\n",
            "(4, 'David', 55000.0, 'Marketing')\n",
            "(5, 'Eve', 65000.0, 'HR')\n",
            "(6, 'Sumit', 20000.0, 'Intern')\n"
          ]
        }
      ]
    },
    {
      "cell_type": "code",
      "source": [
        "cursor.execute('DELETE FROM employees WHERE name = ?', ('Amit',))\n",
        "conn.commit()\n"
      ],
      "metadata": {
        "id": "tLmu5MAEHtSc"
      },
      "execution_count": 16,
      "outputs": []
    },
    {
      "cell_type": "code",
      "source": [
        "cursor.execute('SELECT * FROM employees')\n",
        "rows = cursor.fetchall()\n",
        "for row in rows:\n",
        "    print(row)\n"
      ],
      "metadata": {
        "colab": {
          "base_uri": "https://localhost:8080/"
        },
        "id": "2PpqvF3NPHmi",
        "outputId": "ba66e363-b37d-4bfa-a982-7a109307cef8"
      },
      "execution_count": 17,
      "outputs": [
        {
          "output_type": "stream",
          "name": "stdout",
          "text": [
            "(1, 'Alice', 50000.0, 'HR')\n",
            "(2, 'Bob', 60000.0, 'Engineering')\n",
            "(3, 'Charlie', 70000.0, 'Engineering')\n",
            "(4, 'David', 55000.0, 'Marketing')\n",
            "(5, 'Eve', 65000.0, 'HR')\n",
            "(6, 'Sumit', 20000.0, 'Intern')\n"
          ]
        }
      ]
    },
    {
      "cell_type": "code",
      "source": [
        "conn.close()\n"
      ],
      "metadata": {
        "id": "9VWrBLxRHwHh"
      },
      "execution_count": 18,
      "outputs": []
    },
    {
      "cell_type": "code",
      "source": [],
      "metadata": {
        "id": "acYhT-9wHxzp"
      },
      "execution_count": null,
      "outputs": []
    }
  ]
}
