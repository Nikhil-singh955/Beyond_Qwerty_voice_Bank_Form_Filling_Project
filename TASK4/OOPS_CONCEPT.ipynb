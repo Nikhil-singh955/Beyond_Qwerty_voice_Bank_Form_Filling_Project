{
  "nbformat": 4,
  "nbformat_minor": 0,
  "metadata": {
    "colab": {
      "provenance": [],
      "authorship_tag": "ABX9TyP11iiH26jROaiINLJCpskD",
      "include_colab_link": true
    },
    "kernelspec": {
      "name": "python3",
      "display_name": "Python 3"
    },
    "language_info": {
      "name": "python"
    }
  },
  "cells": [
    {
      "cell_type": "markdown",
      "metadata": {
        "id": "view-in-github",
        "colab_type": "text"
      },
      "source": [
        "<a href=\"https://colab.research.google.com/github/ARYANJATHAR/InfosysSpringboardProject/blob/main/OOPS_CONCEPT.ipynb\" target=\"_parent\"><img src=\"https://colab.research.google.com/assets/colab-badge.svg\" alt=\"Open In Colab\"/></a>"
      ]
    },
    {
      "cell_type": "markdown",
      "source": [
        "# PYTHON OOPS CONCEPTS"
      ],
      "metadata": {
        "id": "dU3IQRBUMNLG"
      }
    },
    {
      "cell_type": "code",
      "execution_count": null,
      "metadata": {
        "id": "o7FL9V6NLacr"
      },
      "outputs": [],
      "source": [
        "#OOP is a programming paradigm that uses objects to represent real-world entities, organizing code through concepts like encapsulation, inheritance, polymorphism, and abstraction."
      ]
    },
    {
      "cell_type": "markdown",
      "source": [
        "CONCEPTS OF OOPS"
      ],
      "metadata": {
        "id": "7p_tgzS7b4H8"
      }
    },
    {
      "cell_type": "code",
      "source": [
        "#1 CLASS - A blueprint for creating objects, defining attributes (data) and methods (functions).\n",
        "class Car:\n",
        "    pass\n"
      ],
      "metadata": {
        "id": "NyomsH_jb32s"
      },
      "execution_count": 5,
      "outputs": []
    },
    {
      "cell_type": "code",
      "source": [
        "#2.Object - An instance of a class with specific values assigned to its attributes.\n",
        "my_car = Car()\n"
      ],
      "metadata": {
        "id": "YhDtpYeKb3yo"
      },
      "execution_count": 6,
      "outputs": []
    },
    {
      "cell_type": "code",
      "source": [
        "#3.Constructor: A special method called automatically when an object is created, used to initialize attributes.\n",
        "class Car:\n",
        "    def __init__(self, brand):\n",
        "        self.brand = brand\n",
        "my_car = Car(\"Tesla\")\n"
      ],
      "metadata": {
        "id": "3mXMq3fjb3wQ"
      },
      "execution_count": 7,
      "outputs": []
    },
    {
      "cell_type": "code",
      "source": [
        "#4.Method :A function defined in a class to perform actions on objects or their data.\n",
        "class Car:\n",
        "    def start(self):\n",
        "        print(\"Car started\")\n",
        "my_car = Car()\n",
        "my_car.start()"
      ],
      "metadata": {
        "colab": {
          "base_uri": "https://localhost:8080/"
        },
        "id": "kg7JmhOWb3tz",
        "outputId": "50795f07-a021-4c12-c2ab-b461f6e5e7e5"
      },
      "execution_count": 8,
      "outputs": [
        {
          "output_type": "stream",
          "name": "stdout",
          "text": [
            "Car started\n"
          ]
        }
      ]
    },
    {
      "cell_type": "code",
      "source": [
        "#Example of creating class and object\n",
        "class Student:\n",
        "    def __init__(self, name, age):  # Constructor\n",
        "        self.name = name\n",
        "        self.age = age\n",
        "\n",
        "    def greet(self):  # Method\n",
        "        return f\"Hello, my name is {self.name}.\"\n"
      ],
      "metadata": {
        "id": "L0BBwQN_dAys"
      },
      "execution_count": 10,
      "outputs": []
    },
    {
      "cell_type": "code",
      "source": [
        "# Creating an object of the Student class\n",
        "student1 = Student(\"Alice\", 20)\n",
        "\n",
        "# Accessing attributes and methods\n",
        "print(student1.name)  # Output: Alice\n",
        "print(student1.greet())  # Output: Hello, my name is Alice.\n"
      ],
      "metadata": {
        "colab": {
          "base_uri": "https://localhost:8080/"
        },
        "id": "CoTfFS7sb3rT",
        "outputId": "ddb24415-dadd-4563-b803-9cbda9a414f5"
      },
      "execution_count": 11,
      "outputs": [
        {
          "output_type": "stream",
          "name": "stdout",
          "text": [
            "Alice\n",
            "Hello, my name is Alice.\n"
          ]
        }
      ]
    },
    {
      "cell_type": "markdown",
      "source": [],
      "metadata": {
        "id": "6ZP577yPguPY"
      }
    },
    {
      "cell_type": "markdown",
      "source": [
        "Pillars of OOPs"
      ],
      "metadata": {
        "id": "XKczLzyGdnKK"
      }
    },
    {
      "cell_type": "code",
      "source": [
        "#1.Encapsulation:Bundling data and methods into a single class and\n",
        "#restricting access to some components, ensuring controlled access to the data."
      ],
      "metadata": {
        "id": "75B8CEpGgu3a"
      },
      "execution_count": 27,
      "outputs": []
    },
    {
      "cell_type": "code",
      "source": [
        "class BankAccount:\n",
        "    def __init__(self, balance):\n",
        "        self.__balance = balance  # Private attribute\n",
        "\n",
        "    def deposit(self, amount):\n",
        "        self.__balance += amount\n",
        "\n",
        "    def get_balance(self):\n",
        "        return self.__balance\n",
        "account = BankAccount(1000)\n",
        "account.deposit(500)\n",
        "print(account.get_balance())\n",
        "\n"
      ],
      "metadata": {
        "colab": {
          "base_uri": "https://localhost:8080/"
        },
        "id": "I9dtut6Yb3o4",
        "outputId": "d397a6f7-7b79-4286-d53a-cf8ae57466d6"
      },
      "execution_count": 28,
      "outputs": [
        {
          "output_type": "stream",
          "name": "stdout",
          "text": [
            "1500\n"
          ]
        }
      ]
    },
    {
      "cell_type": "code",
      "source": [
        "#Explanation: The balance is encapsulated in the class and can\n",
        "#only be accessed or modified through the provided methods\n",
        "#(deposit and get_balance)."
      ],
      "metadata": {
        "id": "yohJZxWHg1KE"
      },
      "execution_count": 29,
      "outputs": []
    },
    {
      "cell_type": "code",
      "source": [
        "#2.Abstraction:Abstraction simplifies complex systems by hiding implementation\n",
        "#details and showing only the necessary features."
      ],
      "metadata": {
        "id": "1PURqe0Jb3mY"
      },
      "execution_count": 16,
      "outputs": []
    },
    {
      "cell_type": "code",
      "source": [
        "class car:\n",
        "  def __init__(self):\n",
        "    self.accerelator = False # hidding these information\n",
        "    self.brk = False\n",
        "    self.clutch = False\n",
        "  def start(self):\n",
        "    self.clutch = True  # hidding these information\n",
        "    self.acc = True\n",
        "    print(\"car started\")\n",
        "car1 = car()\n",
        "car1.start()"
      ],
      "metadata": {
        "colab": {
          "base_uri": "https://localhost:8080/"
        },
        "id": "IsNRTRWxfu0v",
        "outputId": "2a214984-61e6-4f44-919f-208558603e45"
      },
      "execution_count": 17,
      "outputs": [
        {
          "output_type": "stream",
          "name": "stdout",
          "text": [
            "car started\n"
          ]
        }
      ]
    },
    {
      "cell_type": "code",
      "source": [
        "#Explanation - Abstraction hides the car's internal details (like accelerator,\n",
        "#brake, and clutch).\n",
        "#The user interacts only with the start() method, simplifying the process of\n",
        "#starting the car without needing to know its internal workings,\n",
        "#thus hiding complexity and showing only essential functionality."
      ],
      "metadata": {
        "id": "r-XdU_-lfzSp"
      },
      "execution_count": 18,
      "outputs": []
    },
    {
      "cell_type": "code",
      "source": [
        "#3.Inheritance:Inheritance allows a class to inherit attributes and methods\n",
        "#from another class. It promotes code reuse.\n"
      ],
      "metadata": {
        "id": "PUVhASUyb3kD"
      },
      "execution_count": 19,
      "outputs": []
    },
    {
      "cell_type": "code",
      "source": [
        "class Animal:\n",
        "    def speak(self):\n",
        "        return \"Animal sound\"\n",
        "\n",
        "class Dog(Animal):\n",
        "    def speak(self):\n",
        "        return \"Bark\"\n",
        "dog = Dog()\n",
        "print(dog.speak())"
      ],
      "metadata": {
        "colab": {
          "base_uri": "https://localhost:8080/"
        },
        "id": "efKTsc9eb3hQ",
        "outputId": "a7ddef13-7737-48ee-97b5-092ab727e7f6"
      },
      "execution_count": 20,
      "outputs": [
        {
          "output_type": "stream",
          "name": "stdout",
          "text": [
            "Bark\n"
          ]
        }
      ]
    },
    {
      "cell_type": "code",
      "source": [
        "#The Dog class inherits the speak method from the Animal class but\n",
        "#overrides it to give a specific implementation."
      ],
      "metadata": {
        "id": "Lf4B3Sd6b3eI"
      },
      "execution_count": null,
      "outputs": []
    },
    {
      "cell_type": "code",
      "source": [
        "#4.Polymorphism:Polymorphism means \"many forms.\" It allows objects of different\n",
        "#classes to be treated as objects of a common superclass.\n",
        "#The specific method that gets called is determined by the object's actual class at runtime."
      ],
      "metadata": {
        "id": "6VSbK-Msb3Vs"
      },
      "execution_count": 21,
      "outputs": []
    },
    {
      "cell_type": "code",
      "source": [
        "class Bird:\n",
        "    def sound(self):\n",
        "        return \"Chirp\"\n",
        "\n",
        "class Dog:\n",
        "    def sound(self):\n",
        "        return \"Bark\"\n",
        "\n",
        "def make_sound(animal):\n",
        "    print(animal.sound())\n",
        "\n",
        "bird = Bird()\n",
        "dog = Dog()\n",
        "make_sound(bird)  # Output: Chirp\n",
        "make_sound(dog)"
      ],
      "metadata": {
        "colab": {
          "base_uri": "https://localhost:8080/"
        },
        "id": "ypFTkXHHgQRz",
        "outputId": "6f904077-e919-4046-ce7f-0a837c331e49"
      },
      "execution_count": 25,
      "outputs": [
        {
          "output_type": "stream",
          "name": "stdout",
          "text": [
            "Chirp\n",
            "Bark\n"
          ]
        }
      ]
    },
    {
      "cell_type": "code",
      "source": [
        "#Explanation: The make_sound function demonstrates polymorphism by calling\n",
        "#the sound method on different objects (bird and dog), each with a different\n",
        "#implementation of sound."
      ],
      "metadata": {
        "id": "-iXYDMObgdXl"
      },
      "execution_count": 26,
      "outputs": []
    },
    {
      "cell_type": "markdown",
      "source": [],
      "metadata": {
        "id": "A2QRGoL6MX78"
      }
    }
  ]
}
