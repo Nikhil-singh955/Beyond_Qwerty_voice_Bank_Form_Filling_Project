{
  "nbformat": 4,
  "nbformat_minor": 0,
  "metadata": {
    "colab": {
      "provenance": [],
      "authorship_tag": "ABX9TyN1qca00+HcfUEaVGOf82yg",
      "include_colab_link": true
    },
    "kernelspec": {
      "name": "python3",
      "display_name": "Python 3"
    },
    "language_info": {
      "name": "python"
    }
  },
  "cells": [
    {
      "cell_type": "markdown",
      "metadata": {
        "id": "view-in-github",
        "colab_type": "text"
      },
      "source": [
        "<a href=\"https://colab.research.google.com/github/ARYANJATHAR/InfosysSpringboardProject/blob/main/Linux_Basic_Commands.ipynb\" target=\"_parent\"><img src=\"https://colab.research.google.com/assets/colab-badge.svg\" alt=\"Open In Colab\"/></a>"
      ]
    },
    {
      "cell_type": "markdown",
      "source": [
        "## LINUX"
      ],
      "metadata": {
        "id": "y1HgLUjD_-xG"
      }
    },
    {
      "cell_type": "code",
      "execution_count": 6,
      "metadata": {
        "id": "ueivSyt8_kUj"
      },
      "outputs": [],
      "source": [
        "#Linux: \"Linux is an open-source operating system kernel, often used as the foundation for various distributions, powering servers, embedded systems, and personal computers.\""
      ]
    },
    {
      "cell_type": "code",
      "source": [
        "!ls\n",
        "!ls -l\n",
        "!ls -a\n",
        "!ls -lh\n",
        "!ls -ltr\n",
        "#ls - (List): This command list files and directories in the current directory.\n",
        "#ls -l: List files in long format .\n",
        "#ls -a: List all files, including hidden files .\n",
        "#ls -lh: List in human-readable format.\n",
        "#ls -ltr: List in reverse order of creation.\n"
      ],
      "metadata": {
        "colab": {
          "base_uri": "https://localhost:8080/"
        },
        "id": "o-hWeNTbAEBL",
        "outputId": "35e40b55-8bfa-4627-9cfa-18545a040608"
      },
      "execution_count": 5,
      "outputs": [
        {
          "output_type": "stream",
          "name": "stdout",
          "text": [
            "file1  sample_data\n",
            "total 4\n",
            "-rw-r--r-- 1 root root    0 Dec 30 14:57 file1\n",
            "drwxr-xr-x 1 root root 4096 Dec 19 14:20 sample_data\n",
            ".  ..  .config\tfile1  sample_data\n",
            "total 4.0K\n",
            "-rw-r--r-- 1 root root    0 Dec 30 14:57 file1\n",
            "drwxr-xr-x 1 root root 4.0K Dec 19 14:20 sample_data\n",
            "total 4\n",
            "drwxr-xr-x 1 root root 4096 Dec 19 14:20 sample_data\n",
            "-rw-r--r-- 1 root root    0 Dec 30 14:57 file1\n"
          ]
        }
      ]
    },
    {
      "cell_type": "code",
      "source": [
        "!cd\n",
        "!cd ~\n",
        "!cd ..\n",
        "!cd /\n",
        "#cd : Changes to current working directory\n",
        "#cd <directory>: Change to the specified directory.\n",
        "#cd ..: Go up one directory level.\n",
        "#cd ~: Go to the user's home directory.\n",
        "#cd /: Go to the root directory."
      ],
      "metadata": {
        "id": "P3BamWQLAOAA"
      },
      "execution_count": 21,
      "outputs": []
    },
    {
      "cell_type": "code",
      "source": [
        "!pwd #Print Working Directory\n",
        "#pwd - Displays the current working directory's absolute path."
      ],
      "metadata": {
        "colab": {
          "base_uri": "https://localhost:8080/"
        },
        "id": "JWwZYNrcCFUP",
        "outputId": "ed313b26-739e-45f6-94d9-9b058d43bc05"
      },
      "execution_count": 24,
      "outputs": [
        {
          "output_type": "stream",
          "name": "stdout",
          "text": [
            "/content\n"
          ]
        }
      ]
    },
    {
      "cell_type": "code",
      "source": [
        "!mkdir test\n",
        "!ls\n",
        "#mkdir - creates a new directory"
      ],
      "metadata": {
        "colab": {
          "base_uri": "https://localhost:8080/"
        },
        "id": "gHgLVNtaC54s",
        "outputId": "24355c05-9c4c-41b3-91e0-b5f4a1ce5a32"
      },
      "execution_count": 42,
      "outputs": [
        {
          "output_type": "stream",
          "name": "stdout",
          "text": [
            "sample_data  test\n"
          ]
        }
      ]
    },
    {
      "cell_type": "code",
      "source": [
        "!rmdir test\n",
        "!ls\n",
        "#rmdir - removes an empty directory"
      ],
      "metadata": {
        "colab": {
          "base_uri": "https://localhost:8080/"
        },
        "id": "mA9mOc59DMJM",
        "outputId": "a2e0d258-1838-442d-a743-1b5ef78cc5af"
      },
      "execution_count": 43,
      "outputs": [
        {
          "output_type": "stream",
          "name": "stdout",
          "text": [
            "sample_data\n"
          ]
        }
      ]
    },
    {
      "cell_type": "code",
      "source": [
        "!touch file1\n",
        "!ls\n",
        "#touch -  Creates the specified file."
      ],
      "metadata": {
        "colab": {
          "base_uri": "https://localhost:8080/"
        },
        "id": "2CCxk06ADs7v",
        "outputId": "e7bfe90a-5d5b-48cb-ccf4-e7ac8df3dc6c"
      },
      "execution_count": 45,
      "outputs": [
        {
          "output_type": "stream",
          "name": "stdout",
          "text": [
            "file1  sample_data\n"
          ]
        }
      ]
    },
    {
      "cell_type": "code",
      "source": [
        "!rm file1\n",
        "!ls\n",
        "#rm - remove files"
      ],
      "metadata": {
        "colab": {
          "base_uri": "https://localhost:8080/"
        },
        "id": "b1iMsHQ2DzIK",
        "outputId": "5e9f6717-bc44-42c5-90a6-07c107f6f22d"
      },
      "execution_count": 46,
      "outputs": [
        {
          "output_type": "stream",
          "name": "stdout",
          "text": [
            "sample_data\n"
          ]
        }
      ]
    },
    {
      "cell_type": "code",
      "source": [
        "!cat file1\n",
        "#cat <file>: Prints the entire contents to the terminal."
      ],
      "metadata": {
        "id": "fbwIkmyYEtCV"
      },
      "execution_count": 3,
      "outputs": []
    },
    {
      "cell_type": "code",
      "source": [
        "!echo \"Hello, World!\"\n",
        "!echo $PATH\n",
        "#echo - Prints the specified text to the terminal."
      ],
      "metadata": {
        "colab": {
          "base_uri": "https://localhost:8080/"
        },
        "id": "VYHNrUDlE8qp",
        "outputId": "f24a1fea-2cc4-4dd5-a27e-90da86caf27a"
      },
      "execution_count": 11,
      "outputs": [
        {
          "output_type": "stream",
          "name": "stdout",
          "text": [
            "Hello, World!\n",
            "/opt/bin:/usr/local/nvidia/bin:/usr/local/cuda/bin:/usr/local/sbin:/usr/local/bin:/usr/sbin:/usr/bin:/sbin:/bin:/tools/node/bin:/tools/google-cloud-sdk/bin\n"
          ]
        }
      ]
    },
    {
      "cell_type": "code",
      "source": [
        "!sudo\n",
        "#sudo <command>: Executes the given command as root."
      ],
      "metadata": {
        "colab": {
          "base_uri": "https://localhost:8080/"
        },
        "id": "gnj9P_8EFOQ4",
        "outputId": "6b0111b9-508b-4e1d-cd51-7e77843e224a"
      },
      "execution_count": 8,
      "outputs": [
        {
          "output_type": "stream",
          "name": "stdout",
          "text": [
            "usage: sudo -h | -K | -k | -V\n",
            "usage: sudo -v [-ABknS] [-g group] [-h host] [-p prompt] [-u user]\n",
            "usage: sudo -l [-ABknS] [-g group] [-h host] [-p prompt] [-U user] [-u user] [command]\n",
            "usage: sudo [-ABbEHknPS] [-r role] [-t type] [-C num] [-D directory] [-g group] [-h host] [-p\n",
            "            prompt] [-R directory] [-T timeout] [-u user] [VAR=value] [-i|-s] [<command>]\n",
            "usage: sudo -e [-ABknS] [-r role] [-t type] [-C num] [-D directory] [-g group] [-h host] [-p\n",
            "            prompt] [-R directory] [-T timeout] [-u user] file ...\n"
          ]
        }
      ]
    },
    {
      "cell_type": "code",
      "source": [
        "!history | tail\n",
        "#Shows entire previous commands"
      ],
      "metadata": {
        "id": "lfcyniqeFh72"
      },
      "execution_count": 14,
      "outputs": []
    },
    {
      "cell_type": "code",
      "source": [],
      "metadata": {
        "id": "Sxp7I9haFpAL"
      },
      "execution_count": null,
      "outputs": []
    }
  ]
}
